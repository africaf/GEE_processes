{
  "nbformat": 4,
  "nbformat_minor": 0,
  "metadata": {
    "colab": {
      "provenance": [],
      "authorship_tag": "ABX9TyOE4G0MgmXIS92jTTJhZY2M",
      "include_colab_link": true
    },
    "kernelspec": {
      "name": "python3",
      "display_name": "Python 3"
    },
    "language_info": {
      "name": "python"
    }
  },
  "cells": [
    {
      "cell_type": "markdown",
      "metadata": {
        "id": "view-in-github",
        "colab_type": "text"
      },
      "source": [
        "<a href=\"https://colab.research.google.com/github/africaf/GEE_processes/blob/main/MovingAssets_ImageCollections.ipynb\" target=\"_parent\"><img src=\"https://colab.research.google.com/assets/colab-badge.svg\" alt=\"Open In Colab\"/></a>"
      ]
    },
    {
      "cell_type": "code",
      "execution_count": 1,
      "metadata": {
        "colab": {
          "base_uri": "https://localhost:8080/"
        },
        "id": "AHJUmTvUvTmL",
        "outputId": "4381c74d-89d9-4d55-c070-f2c9cc179767"
      },
      "outputs": [
        {
          "output_type": "stream",
          "name": "stdout",
          "text": [
            "To authorize access needed by Earth Engine, open the following URL in a web browser and follow the instructions. If the web browser does not start automatically, please manually browse the URL below.\n",
            "\n",
            "    https://code.earthengine.google.com/client-auth?scopes=https%3A//www.googleapis.com/auth/earthengine%20https%3A//www.googleapis.com/auth/devstorage.full_control&request_id=-574RDnOgkUB4loSg_luKpaxdD_PfH6jr0-T-HTcjRA&tc=ZBMJU2CpbTtem-RATddVsDc3Mq_7iokjoZxZ7pQM3Ek&cc=TpcWypSIKcPRPVBXkBu_i-QqUAuGtmS7ebS5pj3FlIk\n",
            "\n",
            "The authorization workflow will generate a code, which you should paste in the box below.\n",
            "Enter verification code: 4/1AfJohXnVwl4gbcCHLtAjnCwSFTT2jubnQyHtk_JzuTj5_hY7qwapurq8AGc\n",
            "\n",
            "Successfully saved authorization token.\n"
          ]
        }
      ],
      "source": [
        "import ee\n",
        "ee.Authenticate()\n",
        "ee.Initialize()\n",
        "\n"
      ]
    },
    {
      "cell_type": "code",
      "source": [
        "# folder from where to copy\n",
        "src_folder = \"projects/sentinelati-1547136065067/assets/Temporal03\"\n",
        "# folder where to copy\n",
        "dest_folder = \"projects/ee-africafanderson/assets/Temporal03\"\n",
        "#https://code.earthengine.google.com/?asset=projects/ee-africafanderson/assets/Temporal03\n",
        "\n",
        "# get all assets in the folder\n",
        "assets = ee.data.listAssets({'parent': src_folder})\n",
        "\n",
        "print(assets)\n",
        "#asset_img = ee.data.listImages(['parent': ])\n",
        "#print(assets['name'])\n"
      ],
      "metadata": {
        "colab": {
          "base_uri": "https://localhost:8080/"
        },
        "id": "5RB7M4iNvV2E",
        "outputId": "f1fb1e6a-faca-47e8-fafb-14d817e24624"
      },
      "execution_count": 14,
      "outputs": [
        {
          "output_type": "stream",
          "name": "stdout",
          "text": [
            "{'assets': [{'type': 'IMAGE_COLLECTION', 'name': 'projects/sentinelati-1547136065067/assets/Temporal03/maxWaitDate2017', 'id': 'projects/sentinelati-1547136065067/assets/Temporal03/maxWaitDate2017', 'updateTime': '2023-01-14T22:07:54.346892Z'}, {'type': 'IMAGE_COLLECTION', 'name': 'projects/sentinelati-1547136065067/assets/Temporal03/maxWaitDate2018', 'id': 'projects/sentinelati-1547136065067/assets/Temporal03/maxWaitDate2018', 'updateTime': '2023-01-14T22:07:11.981616Z'}, {'type': 'IMAGE_COLLECTION', 'name': 'projects/sentinelati-1547136065067/assets/Temporal03/maxWaitDate2019', 'id': 'projects/sentinelati-1547136065067/assets/Temporal03/maxWaitDate2019', 'updateTime': '2023-01-14T21:46:01.693045Z'}, {'type': 'IMAGE_COLLECTION', 'name': 'projects/sentinelati-1547136065067/assets/Temporal03/maxWaitDate2020', 'id': 'projects/sentinelati-1547136065067/assets/Temporal03/maxWaitDate2020', 'updateTime': '2023-01-14T21:32:55.187978Z'}, {'type': 'IMAGE_COLLECTION', 'name': 'projects/sentinelati-1547136065067/assets/Temporal03/maxWaitDate2021', 'id': 'projects/sentinelati-1547136065067/assets/Temporal03/maxWaitDate2021', 'updateTime': '2023-01-14T21:12:30.089584Z'}]}\n"
          ]
        }
      ]
    },
    {
      "cell_type": "code",
      "source": [
        "# loop through assets and copy them one by one to the new destination\n",
        "for asset in assets['assets']:\n",
        "    # construct destination path - create image collection name\n",
        "    ee.data.createAsset({'type': 'ImageCollection'}, dest_folder + '/' + asset['id'].split('/')[-1])\n",
        "    # get names of individual images\n",
        "    old_asset = ee.ImageCollection(asset['name'])\n",
        "    size = old_asset.size().getInfo()\n",
        "    clist = old_asset.toList(size)\n",
        "\n",
        "    new_asset = dest_folder + '/' + asset['id'].split('/')[-1]\n",
        "    #asset_img = ee.data.listImages({'parent': old_asset })\n",
        "    print(clist)\n",
        "    for i in range(size):\n",
        "      image = ee.Image(clist.get(i))\n",
        "      iid = image.id().getInfo()\n",
        "    # copy to destination\n",
        "      ee.data.copyAsset(asset['id']+ '/' + iid, new_asset + '/' + iid, True)\n",
        "    # delete source asset\n",
        "    #ee.data.deleteAsset(asset['id'])"
      ],
      "metadata": {
        "id": "pgMWILnSxrtD",
        "colab": {
          "base_uri": "https://localhost:8080/"
        },
        "outputId": "1a52ec46-ec2d-47b0-cdf9-2ea6bcafc571"
      },
      "execution_count": 18,
      "outputs": [
        {
          "output_type": "stream",
          "name": "stdout",
          "text": [
            "ee.List({\n",
            "  \"functionInvocationValue\": {\n",
            "    \"functionName\": \"Collection.toList\",\n",
            "    \"arguments\": {\n",
            "      \"collection\": {\n",
            "        \"functionInvocationValue\": {\n",
            "          \"functionName\": \"ImageCollection.load\",\n",
            "          \"arguments\": {\n",
            "            \"id\": {\n",
            "              \"constantValue\": \"projects/sentinelati-1547136065067/assets/Temporal03/maxWaitDate2017\"\n",
            "            }\n",
            "          }\n",
            "        }\n",
            "      },\n",
            "      \"count\": {\n",
            "        \"constantValue\": 101\n",
            "      }\n",
            "    }\n",
            "  }\n",
            "})\n",
            "ee.List({\n",
            "  \"functionInvocationValue\": {\n",
            "    \"functionName\": \"Collection.toList\",\n",
            "    \"arguments\": {\n",
            "      \"collection\": {\n",
            "        \"functionInvocationValue\": {\n",
            "          \"functionName\": \"ImageCollection.load\",\n",
            "          \"arguments\": {\n",
            "            \"id\": {\n",
            "              \"constantValue\": \"projects/sentinelati-1547136065067/assets/Temporal03/maxWaitDate2018\"\n",
            "            }\n",
            "          }\n",
            "        }\n",
            "      },\n",
            "      \"count\": {\n",
            "        \"constantValue\": 100\n",
            "      }\n",
            "    }\n",
            "  }\n",
            "})\n",
            "ee.List({\n",
            "  \"functionInvocationValue\": {\n",
            "    \"functionName\": \"Collection.toList\",\n",
            "    \"arguments\": {\n",
            "      \"collection\": {\n",
            "        \"functionInvocationValue\": {\n",
            "          \"functionName\": \"ImageCollection.load\",\n",
            "          \"arguments\": {\n",
            "            \"id\": {\n",
            "              \"constantValue\": \"projects/sentinelati-1547136065067/assets/Temporal03/maxWaitDate2019\"\n",
            "            }\n",
            "          }\n",
            "        }\n",
            "      },\n",
            "      \"count\": {\n",
            "        \"constantValue\": 100\n",
            "      }\n",
            "    }\n",
            "  }\n",
            "})\n",
            "ee.List({\n",
            "  \"functionInvocationValue\": {\n",
            "    \"functionName\": \"Collection.toList\",\n",
            "    \"arguments\": {\n",
            "      \"collection\": {\n",
            "        \"functionInvocationValue\": {\n",
            "          \"functionName\": \"ImageCollection.load\",\n",
            "          \"arguments\": {\n",
            "            \"id\": {\n",
            "              \"constantValue\": \"projects/sentinelati-1547136065067/assets/Temporal03/maxWaitDate2020\"\n",
            "            }\n",
            "          }\n",
            "        }\n",
            "      },\n",
            "      \"count\": {\n",
            "        \"constantValue\": 89\n",
            "      }\n",
            "    }\n",
            "  }\n",
            "})\n",
            "ee.List({\n",
            "  \"functionInvocationValue\": {\n",
            "    \"functionName\": \"Collection.toList\",\n",
            "    \"arguments\": {\n",
            "      \"collection\": {\n",
            "        \"functionInvocationValue\": {\n",
            "          \"functionName\": \"ImageCollection.load\",\n",
            "          \"arguments\": {\n",
            "            \"id\": {\n",
            "              \"constantValue\": \"projects/sentinelati-1547136065067/assets/Temporal03/maxWaitDate2021\"\n",
            "            }\n",
            "          }\n",
            "        }\n",
            "      },\n",
            "      \"count\": {\n",
            "        \"constantValue\": 74\n",
            "      }\n",
            "    }\n",
            "  }\n",
            "})\n"
          ]
        }
      ]
    },
    {
      "cell_type": "code",
      "source": [],
      "metadata": {
        "id": "7vzhOOlAXBuQ"
      },
      "execution_count": null,
      "outputs": []
    }
  ]
}