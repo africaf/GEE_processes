{
  "nbformat": 4,
  "nbformat_minor": 0,
  "metadata": {
    "colab": {
      "provenance": [],
      "authorship_tag": "ABX9TyOsFCqYfzlsoITlShlNJ7C+",
      "include_colab_link": true
    },
    "kernelspec": {
      "name": "python3",
      "display_name": "Python 3"
    },
    "language_info": {
      "name": "python"
    }
  },
  "cells": [
    {
      "cell_type": "markdown",
      "metadata": {
        "id": "view-in-github",
        "colab_type": "text"
      },
      "source": [
        "<a href=\"https://colab.research.google.com/github/africaf/GEE_processes/blob/main/MovingAssets.ipynb\" target=\"_parent\"><img src=\"https://colab.research.google.com/assets/colab-badge.svg\" alt=\"Open In Colab\"/></a>"
      ]
    },
    {
      "cell_type": "markdown",
      "source": [
        "Copying images from an image collection from asset to asset space"
      ],
      "metadata": {
        "id": "lsxSIgYHMQQT"
      }
    },
    {
      "cell_type": "code",
      "execution_count": null,
      "metadata": {
        "id": "AHJUmTvUvTmL"
      },
      "outputs": [],
      "source": [
        "import ee\n",
        "ee.Authenticate()\n",
        "ee.Initialize()\n",
        "\n"
      ]
    },
    {
      "cell_type": "code",
      "source": [
        "# folder from where to copy\n",
        "src_folder = \"PATH_SOURCE_ASSET_FOLDER\"\n",
        "# folder where to copy\n",
        "dest_folder = \"PATH_DESTINATION_ASSET_FOLDER\"\n",
        "\n",
        "\n",
        "# get all assets in the folder\n",
        "assets = ee.data.listAssets({'parent': src_folder})\n",
        "\n",
        "print(assets)\n",
        "#asset_img = ee.data.listImages(['parent': ])\n",
        "#print(assets['name'])\n"
      ],
      "metadata": {
        "id": "5RB7M4iNvV2E"
      },
      "execution_count": null,
      "outputs": []
    },
    {
      "cell_type": "markdown",
      "source": [
        "Let's say you have a list of image collections, that you need to copy to another asset space:"
      ],
      "metadata": {
        "id": "gLNFKJK_MfQd"
      }
    },
    {
      "cell_type": "code",
      "source": [
        "# loop through assets and copy them one by one to the new destination\n",
        "for asset in assets['assets']:\n",
        "    # construct destination path - create image collection name\n",
        "    ee.data.createAsset({'type': 'ImageCollection'}, dest_folder + '/' + asset['id'].split('/')[-1])\n",
        "    # get names of individual images\n",
        "    old_asset = ee.ImageCollection(asset['name'])\n",
        "    size = old_asset.size().getInfo()\n",
        "    clist = old_asset.toList(size)\n",
        "\n",
        "    new_asset = dest_folder + '/' + asset['id'].split('/')[-1]\n",
        "    #asset_img = ee.data.listImages({'parent': old_asset })\n",
        "    print(clist)\n",
        "    for i in range(size):\n",
        "      image = ee.Image(clist.get(i))\n",
        "      iid = image.id().getInfo()\n",
        "    # copy to destination\n",
        "      ee.data.copyAsset(asset['id']+ '/' + iid, new_asset + '/' + iid, True)\n",
        "    # delete source asset\n",
        "    #ee.data.deleteAsset(asset['id']+ '/' + iid)"
      ],
      "metadata": {
        "id": "pgMWILnSxrtD"
      },
      "execution_count": null,
      "outputs": []
    },
    {
      "cell_type": "code",
      "source": [],
      "metadata": {
        "id": "7vzhOOlAXBuQ"
      },
      "execution_count": null,
      "outputs": []
    }
  ]
}